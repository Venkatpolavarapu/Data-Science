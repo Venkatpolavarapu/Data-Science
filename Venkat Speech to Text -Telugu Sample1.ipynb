{
 "cells": [
  {
   "cell_type": "code",
   "execution_count": 1,
   "metadata": {},
   "outputs": [
    {
     "name": "stdout",
     "output_type": "stream",
     "text": [
      "Requirement already satisfied: SpeechRecognition in c:\\users\\venka\\anaconda3\\lib\\site-packages (3.8.1)\n"
     ]
    }
   ],
   "source": [
    "!pip install SpeechRecognition\n"
   ]
  },
  {
   "cell_type": "code",
   "execution_count": 2,
   "metadata": {},
   "outputs": [
    {
     "name": "stdout",
     "output_type": "stream",
     "text": [
      "Requirement already satisfied: PyAudio in c:\\users\\venka\\anaconda3\\lib\\site-packages (0.2.11)\n"
     ]
    }
   ],
   "source": [
    "!pip install PyAudio"
   ]
  },
  {
   "cell_type": "code",
   "execution_count": 3,
   "metadata": {},
   "outputs": [],
   "source": [
    "import speech_recognition as sr"
   ]
  },
  {
   "cell_type": "code",
   "execution_count": 4,
   "metadata": {},
   "outputs": [],
   "source": [
    "r = sr.Recognizer()\n"
   ]
  },
  {
   "cell_type": "code",
   "execution_count": 6,
   "metadata": {},
   "outputs": [
    {
     "name": "stdout",
     "output_type": "stream",
     "text": [
      "Processing your audio file!\n",
      "Please wait !!\n",
      "TEXT: పొద్దున్నుంచి దొరకట్లేదు మాస్టారు మాస్టారు రాజమండ్రి నుంచి పది కిలోమీటర్లు వెళ్తే ఒక ఊరు 5 కిలోమీటర్లు వెళ్తే ఒక కల వచ్చింది ఆ సర్కిల్ నుంచి 10 కిలోమీటర్ల నుంచి తీసుకొని మూడు కిలోమీటర్లు ఒక ఆలోచన వచ్చింది అది కరెక్టేనా కాదా అని\n"
     ]
    }
   ],
   "source": [
    "#filename='D:\\Personal\\Co-Lab Practice Python\\Telugucomedy_ds.wav'\n",
    "filename = sr.AudioFile('D:\\Personal\\Co-Lab Practice Python\\Telugucomedy_ds.wav')\n",
    "with filename as source:\n",
    "    print(\"Processing your audio file!\");\n",
    "    audio = r.record(source)\n",
    "    print(\"Please wait !!\")\n",
    "    \n",
    "try:\n",
    "   # print(\"TEXT: \"+ r.recognize_google(audio));\n",
    "    # For English\n",
    "    #print(\"TEXT: \"+ r.recognize_google(audio));\n",
    "   # For Hindi\n",
    "    # print(\"TEXT: \"+ r.recognize_google(audio, language = 'hi-IN'));\n",
    "    #Telugu\n",
    "    print(\"TEXT: \"+ r.recognize_google(audio, language = 'te-IN'));\n",
    "    \n",
    "except:\n",
    "    pass;\n"
   ]
  },
  {
   "cell_type": "code",
   "execution_count": null,
   "metadata": {},
   "outputs": [],
   "source": []
  },
  {
   "cell_type": "code",
   "execution_count": null,
   "metadata": {},
   "outputs": [],
   "source": []
  }
 ],
 "metadata": {
  "kernelspec": {
   "display_name": "Python 3",
   "language": "python",
   "name": "python3"
  },
  "language_info": {
   "codemirror_mode": {
    "name": "ipython",
    "version": 3
   },
   "file_extension": ".py",
   "mimetype": "text/x-python",
   "name": "python",
   "nbconvert_exporter": "python",
   "pygments_lexer": "ipython3",
   "version": "3.6.4"
  }
 },
 "nbformat": 4,
 "nbformat_minor": 2
}
