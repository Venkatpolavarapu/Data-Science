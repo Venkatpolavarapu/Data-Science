{
  "nbformat": 4,
  "nbformat_minor": 0,
  "metadata": {
    "colab": {
      "name": "Optimize_Depth_XGBoost.ipynb",
      "provenance": [],
      "authorship_tag": "ABX9TyPYzg6lMNDy1ntjs/opRwKi",
      "include_colab_link": true
    },
    "kernelspec": {
      "name": "python3",
      "display_name": "Python 3"
    }
  },
  "cells": [
    {
      "cell_type": "markdown",
      "metadata": {
        "id": "view-in-github",
        "colab_type": "text"
      },
      "source": [
        "<a href=\"https://colab.research.google.com/github/Venkatpolavarapu/Data-Science/blob/master/Optimize_Depth_XGBoost.ipynb\" target=\"_parent\"><img src=\"https://colab.research.google.com/assets/colab-badge.svg\" alt=\"Open In Colab\"/></a>"
      ]
    },
    {
      "cell_type": "code",
      "metadata": {
        "id": "ekAn4nov-HuT",
        "outputId": "800d69e0-a0c8-464f-838e-a5898ee0b1d6",
        "colab": {
          "base_uri": "https://localhost:8080/",
          "height": 260
        }
      },
      "source": [
        "def Snippet_192():\n",
        "    print()\n",
        "    print(format('How to optimise size (depth) of trees in XGBoost','*^82'))\n",
        "\n",
        "    import warnings\n",
        "    warnings.filterwarnings(\"ignore\")\n",
        "\n",
        "    # load libraries\n",
        "    from sklearn import datasets\n",
        "    from sklearn.model_selection import train_test_split\n",
        "    from xgboost import XGBClassifier\n",
        "    from sklearn.model_selection import GridSearchCV\n",
        "    from sklearn.model_selection import StratifiedKFold\n",
        "    import matplotlib\n",
        "    matplotlib.use('Agg')\n",
        "    from matplotlib import pyplot\n",
        "\n",
        "    # load the iris datasets\n",
        "    dataset = datasets.load_wine()\n",
        "    X = dataset.data; y = dataset.target\n",
        "    X_train, X_test, y_train, y_test = train_test_split(X, y, test_size=0.25)\n",
        "\n",
        "    # grid search\n",
        "    model = XGBClassifier()\n",
        "    max_depth = range(1, 11, 2)\n",
        "    print(max_depth)\n",
        "    param_grid = dict(max_depth=max_depth)\n",
        "    kfold = StratifiedKFold(n_splits=10, shuffle=True, random_state=7)\n",
        "    grid_search = GridSearchCV(model, param_grid, scoring=\"neg_log_loss\", n_jobs=-1, cv=kfold, verbose=1)\n",
        "    grid_result = grid_search.fit(X, y)\n",
        "\n",
        "    # summarize results\n",
        "    print()\n",
        "    print(\"Best: %f using %s\" % (grid_result.best_score_, grid_result.best_params_))\n",
        "    means = grid_result.cv_results_['mean_test_score']\n",
        "    stds = grid_result.cv_results_['std_test_score']\n",
        "    params = grid_result.cv_results_['params']\n",
        "    print()\n",
        "\n",
        "    for mean, stdev, param in zip(means, stds, params):\n",
        "\t     print(\"%f (%f) with: %r\" % (mean, stdev, param))\n",
        "         # plot\n",
        "    pyplot.errorbar(max_depth, means, yerr=stds)\n",
        "    pyplot.title(\"XGBoost max_depth vs Log Loss\")\n",
        "    pyplot.xlabel('max_depth')\n",
        "    pyplot.ylabel('Log Loss')\n",
        "    pyplot.savefig('max_depth.png')\n",
        "\n",
        "Snippet_192()"
      ],
      "execution_count": 1,
      "outputs": [
        {
          "output_type": "stream",
          "text": [
            "\n",
            "*****************How to optimise size (depth) of trees in XGBoost*****************\n",
            "range(1, 11, 2)\n",
            "Fitting 10 folds for each of 5 candidates, totalling 50 fits\n"
          ],
          "name": "stdout"
        },
        {
          "output_type": "stream",
          "text": [
            "[Parallel(n_jobs=-1)]: Using backend LokyBackend with 2 concurrent workers.\n"
          ],
          "name": "stderr"
        },
        {
          "output_type": "stream",
          "text": [
            "\n",
            "Best: -0.080773 using {'max_depth': 1}\n",
            "\n",
            "-0.080773 (0.038411) with: {'max_depth': 1}\n",
            "-0.115199 (0.114838) with: {'max_depth': 3}\n",
            "-0.117524 (0.114757) with: {'max_depth': 5}\n",
            "-0.117524 (0.114757) with: {'max_depth': 7}\n",
            "-0.117524 (0.114757) with: {'max_depth': 9}\n"
          ],
          "name": "stdout"
        },
        {
          "output_type": "stream",
          "text": [
            "[Parallel(n_jobs=-1)]: Done  50 out of  50 | elapsed:    3.2s finished\n"
          ],
          "name": "stderr"
        }
      ]
    }
  ]
}