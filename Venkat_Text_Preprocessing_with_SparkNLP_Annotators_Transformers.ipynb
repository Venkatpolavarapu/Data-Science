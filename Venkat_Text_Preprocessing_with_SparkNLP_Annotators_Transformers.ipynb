{
  "nbformat": 4,
  "nbformat_minor": 0,
  "metadata": {
    "colab": {
      "name": "Venkat-Text_Preprocessing_with_SparkNLP_Annotators_Transformers.ipynb",
      "provenance": [],
      "authorship_tag": "ABX9TyMWwTY1eTPk9jM6o8RGUtP1",
      "include_colab_link": true
    },
    "kernelspec": {
      "name": "python3",
      "display_name": "Python 3"
    }
  },
  "cells": [
    {
      "cell_type": "markdown",
      "metadata": {
        "id": "view-in-github",
        "colab_type": "text"
      },
      "source": [
        "<a href=\"https://colab.research.google.com/github/Venkatpolavarapu/Data-Science/blob/master/Venkat_Text_Preprocessing_with_SparkNLP_Annotators_Transformers.ipynb\" target=\"_parent\"><img src=\"https://colab.research.google.com/assets/colab-badge.svg\" alt=\"Open In Colab\"/></a>"
      ]
    },
    {
      "cell_type": "code",
      "metadata": {
        "colab": {
          "base_uri": "https://localhost:8080/"
        },
        "id": "ffUjGJl-dUr-",
        "outputId": "affa0f11-cecf-4cac-93d8-53f70457c2bc"
      },
      "source": [
        "import os\r\n",
        "\r\n",
        "# Install java\r\n",
        "! apt-get update -qq\r\n",
        "! apt-get install -y openjdk-8-jdk-headless -qq > /dev/null\r\n",
        "\r\n",
        "!wget -q https://archive.apache.org/dist/spark/spark-2.3.0/spark-2.3.0-bin-hadoop2.7.tgz\r\n",
        "\r\n",
        "!tar xf spark-2.3.0-bin-hadoop2.7.tgz\r\n",
        "!pip install -q findspark\r\n",
        "\r\n",
        "os.environ[\"JAVA_HOME\"] = \"/usr/lib/jvm/java-8-openjdk-amd64\"\r\n",
        "os.environ[\"PATH\"] = os.environ[\"JAVA_HOME\"] + \"/bin:\" + os.environ[\"PATH\"]\r\n",
        "os.environ[\"SPARK_HOME\"] = \"/content/spark-2.3.0-bin-hadoop2.7\"\r\n",
        "! java -version"
      ],
      "execution_count": 1,
      "outputs": [
        {
          "output_type": "stream",
          "text": [
            "openjdk version \"1.8.0_275\"\n",
            "OpenJDK Runtime Environment (build 1.8.0_275-8u275-b01-0ubuntu1~18.04-b01)\n",
            "OpenJDK 64-Bit Server VM (build 25.275-b01, mixed mode)\n"
          ],
          "name": "stdout"
        }
      ]
    },
    {
      "cell_type": "code",
      "metadata": {
        "colab": {
          "base_uri": "https://localhost:8080/"
        },
        "id": "fOjME1Nid8Pa",
        "outputId": "6df2da74-2f89-4b95-c996-54504e773462"
      },
      "source": [
        "\r\n",
        "import findspark\r\n",
        "findspark.init()\r\n",
        "from pyspark.sql import SparkSession\r\n",
        "\r\n",
        "! pip install --ignore-installed -q spark-nlp==2.5.5\r\n",
        "\r\n",
        "import sparknlp\r\n",
        "\r\n",
        "spark = sparknlp.start(spark23=True)"
      ],
      "execution_count": 2,
      "outputs": [
        {
          "output_type": "stream",
          "text": [
            "\u001b[?25l\r\u001b[K     |██▋                             | 10kB 15.8MB/s eta 0:00:01\r\u001b[K     |█████▎                          | 20kB 15.6MB/s eta 0:00:01\r\u001b[K     |███████▉                        | 30kB 10.0MB/s eta 0:00:01\r\u001b[K     |██████████▌                     | 40kB 8.6MB/s eta 0:00:01\r\u001b[K     |█████████████▏                  | 51kB 4.3MB/s eta 0:00:01\r\u001b[K     |███████████████▊                | 61kB 4.8MB/s eta 0:00:01\r\u001b[K     |██████████████████▍             | 71kB 5.0MB/s eta 0:00:01\r\u001b[K     |█████████████████████           | 81kB 5.0MB/s eta 0:00:01\r\u001b[K     |███████████████████████▋        | 92kB 5.4MB/s eta 0:00:01\r\u001b[K     |██████████████████████████▎     | 102kB 5.7MB/s eta 0:00:01\r\u001b[K     |████████████████████████████▉   | 112kB 5.7MB/s eta 0:00:01\r\u001b[K     |███████████████████████████████▌| 122kB 5.7MB/s eta 0:00:01\r\u001b[K     |████████████████████████████████| 133kB 5.7MB/s \n",
            "\u001b[?25h"
          ],
          "name": "stdout"
        }
      ]
    },
    {
      "cell_type": "code",
      "metadata": {
        "colab": {
          "base_uri": "https://localhost:8080/"
        },
        "id": "c-mpaCtPeF89",
        "outputId": "bf7a17b8-8160-48e4-f21b-f8777445f4bb"
      },
      "source": [
        "import sparknlp\r\n",
        "\r\n",
        "spark = sparknlp.start()\r\n",
        "\r\n",
        "print(\"Spark NLP version\", sparknlp.version())\r\n",
        "\r\n",
        "print(\"Apache Spark version:\", spark.version)"
      ],
      "execution_count": 3,
      "outputs": [
        {
          "output_type": "stream",
          "text": [
            "Spark NLP version 2.5.5\n",
            "Apache Spark version: 2.3.0\n"
          ],
          "name": "stdout"
        }
      ]
    },
    {
      "cell_type": "code",
      "metadata": {
        "colab": {
          "base_uri": "https://localhost:8080/"
        },
        "id": "rLG0UFmbeYD8",
        "outputId": "be8d067e-eeb9-43cf-e3a2-0158b93d3fb2"
      },
      "source": [
        "text = 'Peter Parker is a nice guy and lives in New York'\r\n",
        "\r\n",
        "spark_df = spark.createDataFrame([[text]]).toDF(\"text\")\r\n",
        "\r\n",
        "spark_df.show(truncate=False)"
      ],
      "execution_count": 4,
      "outputs": [
        {
          "output_type": "stream",
          "text": [
            "+------------------------------------------------+\n",
            "|text                                            |\n",
            "+------------------------------------------------+\n",
            "|Peter Parker is a nice guy and lives in New York|\n",
            "+------------------------------------------------+\n",
            "\n"
          ],
          "name": "stdout"
        }
      ]
    },
    {
      "cell_type": "code",
      "metadata": {
        "colab": {
          "base_uri": "https://localhost:8080/"
        },
        "id": "LmGZ8Kzjeeyu",
        "outputId": "310c04ad-4d82-407c-d7d3-619b5b0a5b3a"
      },
      "source": [
        "from pyspark.sql.types import StringType, IntegerType\r\n",
        "\r\n",
        "# if you want to create a spark datafarme from a list of strings\r\n",
        "\r\n",
        "text_list = ['Peter Parker is a nice guy and lives in New York.', 'Bruce Wayne is also a nice guy and lives in Gotham City.']\r\n",
        "\r\n",
        "spark.createDataFrame(text_list, StringType()).toDF(\"text\").show(truncate=80)"
      ],
      "execution_count": 5,
      "outputs": [
        {
          "output_type": "stream",
          "text": [
            "+--------------------------------------------------------+\n",
            "|                                                    text|\n",
            "+--------------------------------------------------------+\n",
            "|       Peter Parker is a nice guy and lives in New York.|\n",
            "|Bruce Wayne is also a nice guy and lives in Gotham City.|\n",
            "+--------------------------------------------------------+\n",
            "\n"
          ],
          "name": "stdout"
        }
      ]
    },
    {
      "cell_type": "code",
      "metadata": {
        "colab": {
          "base_uri": "https://localhost:8080/"
        },
        "id": "zc9Z-JPmencA",
        "outputId": "b2ad923d-38ec-40a8-becb-0eee83a79399"
      },
      "source": [
        "from pyspark.sql import Row\r\n",
        "\r\n",
        "spark.createDataFrame(list(map(lambda x: Row(text=x), text_list))).show(truncate=80)"
      ],
      "execution_count": 6,
      "outputs": [
        {
          "output_type": "stream",
          "text": [
            "+--------------------------------------------------------+\n",
            "|                                                    text|\n",
            "+--------------------------------------------------------+\n",
            "|       Peter Parker is a nice guy and lives in New York.|\n",
            "|Bruce Wayne is also a nice guy and lives in Gotham City.|\n",
            "+--------------------------------------------------------+\n",
            "\n"
          ],
          "name": "stdout"
        }
      ]
    },
    {
      "cell_type": "code",
      "metadata": {
        "id": "k9UtNZMcesST"
      },
      "source": [
        "\r\n",
        "!wget -q https://raw.githubusercontent.com/JohnSnowLabs/spark-nlp-workshop/master/jupyter/annotation/english/spark-nlp-basics/sample-sentences-en.txt"
      ],
      "execution_count": 7,
      "outputs": []
    },
    {
      "cell_type": "code",
      "metadata": {
        "colab": {
          "base_uri": "https://localhost:8080/"
        },
        "id": "qh_M-3ADex8X",
        "outputId": "e808273a-b420-4c61-d0b3-cff030e7bc8f"
      },
      "source": [
        "with open('./sample-sentences-en.txt') as f:\r\n",
        "  print (f.read())"
      ],
      "execution_count": 8,
      "outputs": [
        {
          "output_type": "stream",
          "text": [
            "Peter is a very good person.\n",
            "My life in Russia is very interesting.\n",
            "John and Peter are brothers. However they don't support each other that much.\n",
            "Lucas Nogal Dunbercker is no longer happy. He has a good car though.\n",
            "Europe is very culture rich. There are huge churches! and big houses!\n"
          ],
          "name": "stdout"
        }
      ]
    },
    {
      "cell_type": "code",
      "metadata": {
        "colab": {
          "base_uri": "https://localhost:8080/"
        },
        "id": "kNptam8Be3fN",
        "outputId": "6a252e40-edfa-4dd4-848e-fe7ad73e0be0"
      },
      "source": [
        "spark_df = spark.read.text('./sample-sentences-en.txt').toDF('text')\r\n",
        "\r\n",
        "spark_df.show(truncate=False)"
      ],
      "execution_count": 9,
      "outputs": [
        {
          "output_type": "stream",
          "text": [
            "+-----------------------------------------------------------------------------+\n",
            "|text                                                                         |\n",
            "+-----------------------------------------------------------------------------+\n",
            "|Peter is a very good person.                                                 |\n",
            "|My life in Russia is very interesting.                                       |\n",
            "|John and Peter are brothers. However they don't support each other that much.|\n",
            "|Lucas Nogal Dunbercker is no longer happy. He has a good car though.         |\n",
            "|Europe is very culture rich. There are huge churches! and big houses!        |\n",
            "+-----------------------------------------------------------------------------+\n",
            "\n"
          ],
          "name": "stdout"
        }
      ]
    },
    {
      "cell_type": "code",
      "metadata": {
        "colab": {
          "base_uri": "https://localhost:8080/"
        },
        "id": "mkmvB_Que7ux",
        "outputId": "79486601-6e59-48bc-ffac-344d23dbf847"
      },
      "source": [
        "spark_df.select('text').show(truncate=False)"
      ],
      "execution_count": 10,
      "outputs": [
        {
          "output_type": "stream",
          "text": [
            "+-----------------------------------------------------------------------------+\n",
            "|text                                                                         |\n",
            "+-----------------------------------------------------------------------------+\n",
            "|Peter is a very good person.                                                 |\n",
            "|My life in Russia is very interesting.                                       |\n",
            "|John and Peter are brothers. However they don't support each other that much.|\n",
            "|Lucas Nogal Dunbercker is no longer happy. He has a good car though.         |\n",
            "|Europe is very culture rich. There are huge churches! and big houses!        |\n",
            "+-----------------------------------------------------------------------------+\n",
            "\n"
          ],
          "name": "stdout"
        }
      ]
    },
    {
      "cell_type": "code",
      "metadata": {
        "colab": {
          "base_uri": "https://localhost:8080/"
        },
        "id": "hS_rmstDe_GJ",
        "outputId": "a9bd4386-f9e1-4856-d46c-3e4a902379c0"
      },
      "source": [
        "textFiles = spark.sparkContext.wholeTextFiles(\"./*.txt\",4)\r\n",
        "    \r\n",
        "spark_df_folder = textFiles.toDF(schema=['path','text'])\r\n",
        "\r\n",
        "spark_df_folder.show(truncate=30)"
      ],
      "execution_count": 11,
      "outputs": [
        {
          "output_type": "stream",
          "text": [
            "+------------------------------+------------------------------+\n",
            "|                          path|                          text|\n",
            "+------------------------------+------------------------------+\n",
            "|file:/content/sample-senten...|Peter is a very good person...|\n",
            "+------------------------------+------------------------------+\n",
            "\n"
          ],
          "name": "stdout"
        }
      ]
    },
    {
      "cell_type": "code",
      "metadata": {
        "colab": {
          "base_uri": "https://localhost:8080/"
        },
        "id": "CuV4Jn7RfCEK",
        "outputId": "59cad11c-2493-40c9-f490-970a6df2e649"
      },
      "source": [
        "spark_df_folder.select('text').take(1)"
      ],
      "execution_count": 12,
      "outputs": [
        {
          "output_type": "execute_result",
          "data": {
            "text/plain": [
              "[Row(text=\"Peter is a very good person.\\nMy life in Russia is very interesting.\\nJohn and Peter are brothers. However they don't support each other that much.\\nLucas Nogal Dunbercker is no longer happy. He has a good car though.\\nEurope is very culture rich. There are huge churches! and big houses!\")]"
            ]
          },
          "metadata": {
            "tags": []
          },
          "execution_count": 12
        }
      ]
    },
    {
      "cell_type": "code",
      "metadata": {
        "colab": {
          "base_uri": "https://localhost:8080/"
        },
        "id": "VzE1WpF2fFEq",
        "outputId": "46824df7-eed3-4396-9a80-12649cf69659"
      },
      "source": [
        "spark_df_folder.select('text').take(2)"
      ],
      "execution_count": 13,
      "outputs": [
        {
          "output_type": "execute_result",
          "data": {
            "text/plain": [
              "[Row(text=\"Peter is a very good person.\\nMy life in Russia is very interesting.\\nJohn and Peter are brothers. However they don't support each other that much.\\nLucas Nogal Dunbercker is no longer happy. He has a good car though.\\nEurope is very culture rich. There are huge churches! and big houses!\")]"
            ]
          },
          "metadata": {
            "tags": []
          },
          "execution_count": 13
        }
      ]
    },
    {
      "cell_type": "code",
      "metadata": {
        "colab": {
          "base_uri": "https://localhost:8080/"
        },
        "id": "JruBEdiVfQjY",
        "outputId": "485ca4b1-ce0e-4d1e-bdf2-1f4d718fa004"
      },
      "source": [
        "\r\n",
        "from sparknlp.base import *\r\n",
        "\r\n",
        "documentAssembler = DocumentAssembler()\\\r\n",
        ".setInputCol(\"text\")\\\r\n",
        ".setOutputCol(\"document\")\\\r\n",
        ".setCleanupMode(\"shrink\")\r\n",
        "\r\n",
        "doc_df = documentAssembler.transform(spark_df)\r\n",
        "\r\n",
        "doc_df.show(truncate=30)"
      ],
      "execution_count": 14,
      "outputs": [
        {
          "output_type": "stream",
          "text": [
            "+------------------------------+------------------------------+\n",
            "|                          text|                      document|\n",
            "+------------------------------+------------------------------+\n",
            "|  Peter is a very good person.|[[document, 0, 27, Peter is...|\n",
            "|My life in Russia is very i...|[[document, 0, 37, My life ...|\n",
            "|John and Peter are brothers...|[[document, 0, 76, John and...|\n",
            "|Lucas Nogal Dunbercker is n...|[[document, 0, 67, Lucas No...|\n",
            "|Europe is very culture rich...|[[document, 0, 68, Europe i...|\n",
            "+------------------------------+------------------------------+\n",
            "\n"
          ],
          "name": "stdout"
        }
      ]
    },
    {
      "cell_type": "code",
      "metadata": {
        "colab": {
          "base_uri": "https://localhost:8080/"
        },
        "id": "4bKoK1DufYNq",
        "outputId": "7979533a-9db8-4622-d9dc-57bb3e505ce4"
      },
      "source": [
        "doc_df.printSchema()\r\n"
      ],
      "execution_count": 15,
      "outputs": [
        {
          "output_type": "stream",
          "text": [
            "root\n",
            " |-- text: string (nullable = true)\n",
            " |-- document: array (nullable = true)\n",
            " |    |-- element: struct (containsNull = true)\n",
            " |    |    |-- annotatorType: string (nullable = true)\n",
            " |    |    |-- begin: integer (nullable = false)\n",
            " |    |    |-- end: integer (nullable = false)\n",
            " |    |    |-- result: string (nullable = true)\n",
            " |    |    |-- metadata: map (nullable = true)\n",
            " |    |    |    |-- key: string\n",
            " |    |    |    |-- value: string (valueContainsNull = true)\n",
            " |    |    |-- embeddings: array (nullable = true)\n",
            " |    |    |    |-- element: float (containsNull = false)\n",
            "\n"
          ],
          "name": "stdout"
        }
      ]
    },
    {
      "cell_type": "code",
      "metadata": {
        "colab": {
          "base_uri": "https://localhost:8080/"
        },
        "id": "9gjfPyK5fbxb",
        "outputId": "dc719d62-5879-408d-ccde-0bd6cd2d1d71"
      },
      "source": [
        "doc_df.select('document.result','document.begin','document.end').show(truncate=False)\r\n"
      ],
      "execution_count": 16,
      "outputs": [
        {
          "output_type": "stream",
          "text": [
            "+-------------------------------------------------------------------------------+-----+----+\n",
            "|result                                                                         |begin|end |\n",
            "+-------------------------------------------------------------------------------+-----+----+\n",
            "|[Peter is a very good person.]                                                 |[0]  |[27]|\n",
            "|[My life in Russia is very interesting.]                                       |[0]  |[37]|\n",
            "|[John and Peter are brothers. However they don't support each other that much.]|[0]  |[76]|\n",
            "|[Lucas Nogal Dunbercker is no longer happy. He has a good car though.]         |[0]  |[67]|\n",
            "|[Europe is very culture rich. There are huge churches! and big houses!]        |[0]  |[68]|\n",
            "+-------------------------------------------------------------------------------+-----+----+\n",
            "\n"
          ],
          "name": "stdout"
        }
      ]
    },
    {
      "cell_type": "code",
      "metadata": {
        "colab": {
          "base_uri": "https://localhost:8080/"
        },
        "id": "Nl2-Ncz-fe-D",
        "outputId": "73f4ca39-c14a-4f13-f6ce-dfb5f20017ed"
      },
      "source": [
        "doc_df.select(\"document.result\").take(1)\r\n"
      ],
      "execution_count": 17,
      "outputs": [
        {
          "output_type": "execute_result",
          "data": {
            "text/plain": [
              "[Row(result=['Peter is a very good person.'])]"
            ]
          },
          "metadata": {
            "tags": []
          },
          "execution_count": 17
        }
      ]
    },
    {
      "cell_type": "code",
      "metadata": {
        "colab": {
          "base_uri": "https://localhost:8080/"
        },
        "id": "El9eC2ZzfiiK",
        "outputId": "012890f7-fea9-43f4-dab3-7d8808867c7d"
      },
      "source": [
        "\r\n",
        "import pyspark.sql.functions as F\r\n",
        "\r\n",
        "doc_df.withColumn(\r\n",
        "    \"tmp\", \r\n",
        "    F.explode(\"document\"))\\\r\n",
        "    .select(\"tmp.*\")\\\r\n",
        "    .show(truncate=False)"
      ],
      "execution_count": 18,
      "outputs": [
        {
          "output_type": "stream",
          "text": [
            "+-------------+-----+---+-----------------------------------------------------------------------------+---------------+----------+\n",
            "|annotatorType|begin|end|result                                                                       |metadata       |embeddings|\n",
            "+-------------+-----+---+-----------------------------------------------------------------------------+---------------+----------+\n",
            "|document     |0    |27 |Peter is a very good person.                                                 |[sentence -> 0]|[]        |\n",
            "|document     |0    |37 |My life in Russia is very interesting.                                       |[sentence -> 0]|[]        |\n",
            "|document     |0    |76 |John and Peter are brothers. However they don't support each other that much.|[sentence -> 0]|[]        |\n",
            "|document     |0    |67 |Lucas Nogal Dunbercker is no longer happy. He has a good car though.         |[sentence -> 0]|[]        |\n",
            "|document     |0    |68 |Europe is very culture rich. There are huge churches! and big houses!        |[sentence -> 0]|[]        |\n",
            "+-------------+-----+---+-----------------------------------------------------------------------------+---------------+----------+\n",
            "\n"
          ],
          "name": "stdout"
        }
      ]
    },
    {
      "cell_type": "code",
      "metadata": {
        "id": "ZsR9xs7PfmhU"
      },
      "source": [
        "from sparknlp.annotator import *\r\n",
        "\r\n",
        "# we feed the document column coming from Document Assembler\r\n",
        "\r\n",
        "sentenceDetector = SentenceDetector().\\\r\n",
        "setInputCols(['document']).\\\r\n",
        "setOutputCol('sentences')"
      ],
      "execution_count": 20,
      "outputs": []
    },
    {
      "cell_type": "code",
      "metadata": {
        "colab": {
          "base_uri": "https://localhost:8080/"
        },
        "id": "8bowAKNsfu8v",
        "outputId": "3e4135d4-c3c9-4aa7-d3da-4f1faec8aca3"
      },
      "source": [
        "sent_df = sentenceDetector.transform(doc_df)\r\n",
        "\r\n",
        "sent_df.show(truncate=False)"
      ],
      "execution_count": 21,
      "outputs": [
        {
          "output_type": "stream",
          "text": [
            "+-----------------------------------------------------------------------------+-----------------------------------------------------------------------------------------------------------------------+---------------------------------------------------------------------------------------------------------------------------------------------------------------------------------------------------+\n",
            "|text                                                                         |document                                                                                                               |sentences                                                                                                                                                                                          |\n",
            "+-----------------------------------------------------------------------------+-----------------------------------------------------------------------------------------------------------------------+---------------------------------------------------------------------------------------------------------------------------------------------------------------------------------------------------+\n",
            "|Peter is a very good person.                                                 |[[document, 0, 27, Peter is a very good person., [sentence -> 0], []]]                                                 |[[document, 0, 27, Peter is a very good person., [sentence -> 0], []]]                                                                                                                             |\n",
            "|My life in Russia is very interesting.                                       |[[document, 0, 37, My life in Russia is very interesting., [sentence -> 0], []]]                                       |[[document, 0, 37, My life in Russia is very interesting., [sentence -> 0], []]]                                                                                                                   |\n",
            "|John and Peter are brothers. However they don't support each other that much.|[[document, 0, 76, John and Peter are brothers. However they don't support each other that much., [sentence -> 0], []]]|[[document, 0, 27, John and Peter are brothers., [sentence -> 0], []], [document, 29, 76, However they don't support each other that much., [sentence -> 1], []]]                                  |\n",
            "|Lucas Nogal Dunbercker is no longer happy. He has a good car though.         |[[document, 0, 67, Lucas Nogal Dunbercker is no longer happy. He has a good car though., [sentence -> 0], []]]         |[[document, 0, 41, Lucas Nogal Dunbercker is no longer happy., [sentence -> 0], []], [document, 43, 67, He has a good car though., [sentence -> 1], []]]                                           |\n",
            "|Europe is very culture rich. There are huge churches! and big houses!        |[[document, 0, 68, Europe is very culture rich. There are huge churches! and big houses!, [sentence -> 0], []]]        |[[document, 0, 27, Europe is very culture rich., [sentence -> 0], []], [document, 29, 52, There are huge churches!, [sentence -> 1], []], [document, 54, 68, and big houses!, [sentence -> 2], []]]|\n",
            "+-----------------------------------------------------------------------------+-----------------------------------------------------------------------------------------------------------------------+---------------------------------------------------------------------------------------------------------------------------------------------------------------------------------------------------+\n",
            "\n"
          ],
          "name": "stdout"
        }
      ]
    },
    {
      "cell_type": "code",
      "metadata": {
        "colab": {
          "base_uri": "https://localhost:8080/"
        },
        "id": "CFBPQH8JfwM4",
        "outputId": "cfce6be9-2124-4a75-9b02-9285809726b3"
      },
      "source": [
        "sent_df.select('sentences').take(3)\r\n"
      ],
      "execution_count": 22,
      "outputs": [
        {
          "output_type": "execute_result",
          "data": {
            "text/plain": [
              "[Row(sentences=[Row(annotatorType='document', begin=0, end=27, result='Peter is a very good person.', metadata={'sentence': '0'}, embeddings=[])]),\n",
              " Row(sentences=[Row(annotatorType='document', begin=0, end=37, result='My life in Russia is very interesting.', metadata={'sentence': '0'}, embeddings=[])]),\n",
              " Row(sentences=[Row(annotatorType='document', begin=0, end=27, result='John and Peter are brothers.', metadata={'sentence': '0'}, embeddings=[]), Row(annotatorType='document', begin=29, end=76, result=\"However they don't support each other that much.\", metadata={'sentence': '1'}, embeddings=[])])]"
            ]
          },
          "metadata": {
            "tags": []
          },
          "execution_count": 22
        }
      ]
    },
    {
      "cell_type": "code",
      "metadata": {
        "colab": {
          "base_uri": "https://localhost:8080/",
          "height": 70
        },
        "id": "USSNEPOtfz7o",
        "outputId": "e93ffd62-94ba-4306-f6d7-73ce38e2cd39"
      },
      "source": [
        "\r\n",
        "text ='The patient was prescribed 1 capsule of Advil for 5 days. He was seen by the endocrinology service and she was discharged on 40 units of insulin glargine at night, 12 units of insulin lispro with meals, and metformin 1000 mg two times a day. It was determined that all SGLT2 inhibitors should be discontinued indefinitely fro 3 months.'\r\n",
        "text"
      ],
      "execution_count": 23,
      "outputs": [
        {
          "output_type": "execute_result",
          "data": {
            "application/vnd.google.colaboratory.intrinsic+json": {
              "type": "string"
            },
            "text/plain": [
              "'The patient was prescribed 1 capsule of Advil for 5 days. He was seen by the endocrinology service and she was discharged on 40 units of insulin glargine at night, 12 units of insulin lispro with meals, and metformin 1000 mg two times a day. It was determined that all SGLT2 inhibitors should be discontinued indefinitely fro 3 months.'"
            ]
          },
          "metadata": {
            "tags": []
          },
          "execution_count": 23
        }
      ]
    },
    {
      "cell_type": "code",
      "metadata": {
        "colab": {
          "base_uri": "https://localhost:8080/"
        },
        "id": "D2-0ds46f4rF",
        "outputId": "46d219a9-1e6e-4fec-ece9-65464ebbfed8"
      },
      "source": [
        "spark_df = spark.createDataFrame([[text]]).toDF(\"text\")\r\n",
        "\r\n",
        "spark_df.show(truncate=False)"
      ],
      "execution_count": 24,
      "outputs": [
        {
          "output_type": "stream",
          "text": [
            "+-----------------------------------------------------------------------------------------------------------------------------------------------------------------------------------------------------------------------------------------------------------------------------------------------------------------------------------------------+\n",
            "|text                                                                                                                                                                                                                                                                                                                                           |\n",
            "+-----------------------------------------------------------------------------------------------------------------------------------------------------------------------------------------------------------------------------------------------------------------------------------------------------------------------------------------------+\n",
            "|The patient was prescribed 1 capsule of Advil for 5 days. He was seen by the endocrinology service and she was discharged on 40 units of insulin glargine at night, 12 units of insulin lispro with meals, and metformin 1000 mg two times a day. It was determined that all SGLT2 inhibitors should be discontinued indefinitely fro 3 months.|\n",
            "+-----------------------------------------------------------------------------------------------------------------------------------------------------------------------------------------------------------------------------------------------------------------------------------------------------------------------------------------------+\n",
            "\n"
          ],
          "name": "stdout"
        }
      ]
    },
    {
      "cell_type": "code",
      "metadata": {
        "colab": {
          "base_uri": "https://localhost:8080/"
        },
        "id": "BS14EzQCf8Co",
        "outputId": "e17e1a6c-7de6-4535-9f3e-c08e293de39a"
      },
      "source": [
        "\r\n",
        "spark_df.show(truncate=50)"
      ],
      "execution_count": 25,
      "outputs": [
        {
          "output_type": "stream",
          "text": [
            "+--------------------------------------------------+\n",
            "|                                              text|\n",
            "+--------------------------------------------------+\n",
            "|The patient was prescribed 1 capsule of Advil f...|\n",
            "+--------------------------------------------------+\n",
            "\n"
          ],
          "name": "stdout"
        }
      ]
    },
    {
      "cell_type": "code",
      "metadata": {
        "colab": {
          "base_uri": "https://localhost:8080/"
        },
        "id": "SXb97Kp0f_0D",
        "outputId": "c829136b-ad06-4f96-b4b6-52382d770147"
      },
      "source": [
        "\r\n",
        "doc_df = documentAssembler.transform(spark_df)\r\n",
        "\r\n",
        "sent_df = sentenceDetector.transform(doc_df)\r\n",
        "\r\n",
        "sent_df.show(truncate=True)\r\n"
      ],
      "execution_count": 26,
      "outputs": [
        {
          "output_type": "stream",
          "text": [
            "+--------------------+--------------------+--------------------+\n",
            "|                text|            document|           sentences|\n",
            "+--------------------+--------------------+--------------------+\n",
            "|The patient was p...|[[document, 0, 33...|[[document, 0, 56...|\n",
            "+--------------------+--------------------+--------------------+\n",
            "\n"
          ],
          "name": "stdout"
        }
      ]
    },
    {
      "cell_type": "code",
      "metadata": {
        "colab": {
          "base_uri": "https://localhost:8080/"
        },
        "id": "2bQrDv5fgDXR",
        "outputId": "dad203dd-fa62-49cf-e9d6-c69cf7a5d02b"
      },
      "source": [
        "sent_df.select('sentences.result').take(1)"
      ],
      "execution_count": 27,
      "outputs": [
        {
          "output_type": "execute_result",
          "data": {
            "text/plain": [
              "[Row(result=['The patient was prescribed 1 capsule of Advil for 5 days.', 'He was seen by the endocrinology service and she was discharged on 40 units of insulin glargine at night, 12 units of insulin lispro with meals, and metformin 1000 mg two times a day.', 'It was determined that all SGLT2 inhibitors should be discontinued indefinitely fro 3 months.'])]"
            ]
          },
          "metadata": {
            "tags": []
          },
          "execution_count": 27
        }
      ]
    },
    {
      "cell_type": "code",
      "metadata": {
        "colab": {
          "base_uri": "https://localhost:8080/"
        },
        "id": "ZVu7uDb7gHlQ",
        "outputId": "301c6255-601a-44f7-9a0e-e6a8d46a44c0"
      },
      "source": [
        "sentenceDetector.setExplodeSentences(True)\r\n"
      ],
      "execution_count": 28,
      "outputs": [
        {
          "output_type": "execute_result",
          "data": {
            "text/plain": [
              "SentenceDetector_4d13bd783fb27cd90e35"
            ]
          },
          "metadata": {
            "tags": []
          },
          "execution_count": 28
        }
      ]
    },
    {
      "cell_type": "code",
      "metadata": {
        "colab": {
          "base_uri": "https://localhost:8080/"
        },
        "id": "rWceihJ2gKc1",
        "outputId": "2a3d3e6d-b398-4442-f991-83b19ed5285d"
      },
      "source": [
        "\r\n",
        "sent_df = sentenceDetector.transform(doc_df)\r\n",
        "\r\n",
        "sent_df.show(truncate=50)"
      ],
      "execution_count": 29,
      "outputs": [
        {
          "output_type": "stream",
          "text": [
            "+--------------------------------------------------+--------------------------------------------------+--------------------------------------------------+\n",
            "|                                              text|                                          document|                                         sentences|\n",
            "+--------------------------------------------------+--------------------------------------------------+--------------------------------------------------+\n",
            "|The patient was prescribed 1 capsule of Advil f...|[[document, 0, 334, The patient was prescribed ...|[[document, 0, 56, The patient was prescribed 1...|\n",
            "|The patient was prescribed 1 capsule of Advil f...|[[document, 0, 334, The patient was prescribed ...|[[document, 58, 240, He was seen by the endocri...|\n",
            "|The patient was prescribed 1 capsule of Advil f...|[[document, 0, 334, The patient was prescribed ...|[[document, 242, 334, It was determined that al...|\n",
            "+--------------------------------------------------+--------------------------------------------------+--------------------------------------------------+\n",
            "\n"
          ],
          "name": "stdout"
        }
      ]
    },
    {
      "cell_type": "code",
      "metadata": {
        "colab": {
          "base_uri": "https://localhost:8080/"
        },
        "id": "CseQiGyrgNCx",
        "outputId": "a3afc72e-d568-476f-b7ee-d3a32b2d0f4d"
      },
      "source": [
        "sent_df.select('sentences.result').show(truncate=False)"
      ],
      "execution_count": 30,
      "outputs": [
        {
          "output_type": "stream",
          "text": [
            "+-----------------------------------------------------------------------------------------------------------------------------------------------------------------------------------------+\n",
            "|result                                                                                                                                                                                   |\n",
            "+-----------------------------------------------------------------------------------------------------------------------------------------------------------------------------------------+\n",
            "|[The patient was prescribed 1 capsule of Advil for 5 days.]                                                                                                                              |\n",
            "|[He was seen by the endocrinology service and she was discharged on 40 units of insulin glargine at night, 12 units of insulin lispro with meals, and metformin 1000 mg two times a day.]|\n",
            "|[It was determined that all SGLT2 inhibitors should be discontinued indefinitely fro 3 months.]                                                                                          |\n",
            "+-----------------------------------------------------------------------------------------------------------------------------------------------------------------------------------------+\n",
            "\n"
          ],
          "name": "stdout"
        }
      ]
    },
    {
      "cell_type": "code",
      "metadata": {
        "colab": {
          "base_uri": "https://localhost:8080/"
        },
        "id": "FcMGuwzkgPan",
        "outputId": "62326f8e-fd3d-4c9a-f687-23e55263472f"
      },
      "source": [
        "from pyspark.sql import functions as F\r\n",
        "\r\n",
        "sent_df.select(F.explode('sentences.result')).show(truncate=False)"
      ],
      "execution_count": 31,
      "outputs": [
        {
          "output_type": "stream",
          "text": [
            "+---------------------------------------------------------------------------------------------------------------------------------------------------------------------------------------+\n",
            "|col                                                                                                                                                                                    |\n",
            "+---------------------------------------------------------------------------------------------------------------------------------------------------------------------------------------+\n",
            "|The patient was prescribed 1 capsule of Advil for 5 days.                                                                                                                              |\n",
            "|He was seen by the endocrinology service and she was discharged on 40 units of insulin glargine at night, 12 units of insulin lispro with meals, and metformin 1000 mg two times a day.|\n",
            "|It was determined that all SGLT2 inhibitors should be discontinued indefinitely fro 3 months.                                                                                          |\n",
            "+---------------------------------------------------------------------------------------------------------------------------------------------------------------------------------------+\n",
            "\n"
          ],
          "name": "stdout"
        }
      ]
    },
    {
      "cell_type": "markdown",
      "metadata": {
        "id": "wIyBOsIIi0iW"
      },
      "source": [
        "Credits : JohnSnow Labs\r\n"
      ]
    }
  ]
}