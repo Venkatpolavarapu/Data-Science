{
  "nbformat": 4,
  "nbformat_minor": 0,
  "metadata": {
    "colab": {
      "provenance": [],
      "authorship_tag": "ABX9TyMMUk3BQSEsx575mtqY4KVg",
      "include_colab_link": true
    },
    "kernelspec": {
      "name": "python3",
      "display_name": "Python 3"
    },
    "language_info": {
      "name": "python"
    }
  },
  "cells": [
    {
      "cell_type": "markdown",
      "metadata": {
        "id": "view-in-github",
        "colab_type": "text"
      },
      "source": [
        "<a href=\"https://colab.research.google.com/github/Venkatpolavarapu/Data-Science/blob/master/Splitmypdf.ipynb\" target=\"_parent\"><img src=\"https://colab.research.google.com/assets/colab-badge.svg\" alt=\"Open In Colab\"/></a>"
      ]
    },
    {
      "cell_type": "code",
      "execution_count": 5,
      "metadata": {
        "colab": {
          "base_uri": "https://localhost:8080/"
        },
        "id": "UKpKlFOJalLa",
        "outputId": "5893c676-9505-4e00-cd44-1a8d1f3b0221"
      },
      "outputs": [
        {
          "output_type": "stream",
          "name": "stdout",
          "text": [
            "Requirement already satisfied: PyPDF2 in /usr/local/lib/python3.10/dist-packages (3.0.1)\n"
          ]
        }
      ],
      "source": [
        "!pip install PyPDF2\n",
        "from PyPDF2 import PdfWriter, PdfReader\n",
        "\n",
        "inputpdf = PdfReader(open(\"student-handbook.pdf\", \"rb\"))\n",
        "import os\n",
        "os.makedirs(\"split_pdfs_student_handbook\", exist_ok=True)  # Create directory if it doesn't exist\n",
        "\n",
        "for i in range(len(inputpdf.pages)):\n",
        " output = PdfWriter()\n",
        " output.add_page(inputpdf.pages[i])\n",
        " with open(\"./split_pdfs_student_handbook/document-page%s.pdf\" % i, \"wb\") as outputStream:\n",
        "  output.write(outputStream)"
      ]
    }
  ]
}