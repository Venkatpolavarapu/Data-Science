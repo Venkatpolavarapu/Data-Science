{
  "nbformat": 4,
  "nbformat_minor": 0,
  "metadata": {
    "colab": {
      "name": "Simulate_data_for_clustering.ipynb",
      "provenance": [],
      "authorship_tag": "ABX9TyMCnYqUhYlN1ACBPjvvEyTp",
      "include_colab_link": true
    },
    "kernelspec": {
      "name": "python3",
      "display_name": "Python 3"
    }
  },
  "cells": [
    {
      "cell_type": "markdown",
      "metadata": {
        "id": "view-in-github",
        "colab_type": "text"
      },
      "source": [
        "<a href=\"https://colab.research.google.com/github/Venkatpolavarapu/Data-Science/blob/master/Simulate_data_for_clustering.ipynb\" target=\"_parent\"><img src=\"https://colab.research.google.com/assets/colab-badge.svg\" alt=\"Open In Colab\"/></a>"
      ]
    },
    {
      "cell_type": "code",
      "metadata": {
        "id": "1YNY90dwfd1-",
        "outputId": "80846498-a4c5-41b8-db6b-eec73988d1f9",
        "colab": {
          "base_uri": "https://localhost:8080/",
          "height": 473
        }
      },
      "source": [
        "## How to Create simulated data for clustering in Python \n",
        "def Kickstarter_Example_24():\n",
        "    print()\n",
        "    print(format('How to Create simulated data for clustering in Python', '*^82'))\n",
        "\n",
        "    # Load libraries\n",
        "    from sklearn.datasets import make_blobs\n",
        "    import matplotlib.pyplot as plt\n",
        "    import pandas as pd\n",
        "\n",
        "    # Make the features (X) and output (y) with 200 samples,\n",
        "    features, clusters = make_blobs(n_samples = 2000,\n",
        "                  n_features = 10, centers = 5,\n",
        "                  # with .5 cluster standard deviation,\n",
        "                  cluster_std = 0.4,\n",
        "                  shuffle = True)\n",
        "\n",
        "    # View the first five observations and their 10 features\n",
        "    print()\n",
        "    print(\"Feature Matrix: \");\n",
        "    print(pd.DataFrame(features, columns=['Feature 1', 'Feature 2', 'Feature 3',\n",
        "         'Feature 4', 'Feature 5', 'Feature 6', 'Feature 7', 'Feature 8',\n",
        "         'Feature 9', 'Feature 10']).head())\n",
        "\n",
        "    # Create a scatterplot of the first and second features\n",
        "    plt.scatter(features[:,0], features[:,1])\n",
        "\n",
        "    # Show the scatterplot\n",
        "    plt.show()\n",
        "\n",
        "Kickstarter_Example_24()"
      ],
      "execution_count": 1,
      "outputs": [
        {
          "output_type": "stream",
          "text": [
            "\n",
            "**************How to Create simulated data for clustering in Python***************\n",
            "\n",
            "Feature Matrix: \n",
            "   Feature 1  Feature 2  Feature 3  ...  Feature 8  Feature 9  Feature 10\n",
            "0   0.695204  -5.906397  -9.682720  ...  -1.250200   0.443860   -5.606422\n",
            "1  -4.552135  -9.902282  -4.237282  ...   4.847254  -0.324068   -9.489148\n",
            "2  -6.857100   3.320345   7.421434  ...   0.883879   2.422847    7.807773\n",
            "3   8.776271   8.840265  -0.445417  ...   3.201817  -0.941513   -5.880239\n",
            "4   9.513347   9.790364   0.353111  ...   2.848829   0.396246   -6.050989\n",
            "\n",
            "[5 rows x 10 columns]\n"
          ],
          "name": "stdout"
        },
        {
          "output_type": "display_data",
          "data": {
            "image/png": "[encoded data removed]",
            "text/plain": [
              "<Figure size 432x288 with 1 Axes>"
            ]
          },
          "metadata": {
            "tags": [],
            "needs_background": "light"
          }
        }
      ]
    }
  ]
}