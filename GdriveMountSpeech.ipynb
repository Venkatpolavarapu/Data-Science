{
  "nbformat": 4,
  "nbformat_minor": 0,
  "metadata": {
    "colab": {
      "name": "GdriveMountSpeech.ipynb",
      "provenance": [],
      "authorship_tag": "ABX9TyN5ziEVOOOri/PnzCF5xOQv"
    },
    "kernelspec": {
      "name": "python3",
      "display_name": "Python 3"
    },
    "accelerator": "GPU"
  },
  "cells": [
    {
      "cell_type": "code",
      "metadata": {
        "colab": {
          "base_uri": "https://localhost:8080/"
        },
        "id": "9cC639NwgKKj",
        "outputId": "e7f8fa90-99be-4e75-f075-573acdcee6a5"
      },
      "source": [
        "!pip install SpeechRecognition"
      ],
      "execution_count": 21,
      "outputs": [
        {
          "output_type": "stream",
          "text": [
            "Requirement already satisfied: SpeechRecognition in /usr/local/lib/python3.6/dist-packages (3.8.1)\n"
          ],
          "name": "stdout"
        }
      ]
    },
    {
      "cell_type": "code",
      "metadata": {
        "colab": {
          "base_uri": "https://localhost:8080/"
        },
        "id": "TKqDxqyEiosw",
        "outputId": "807f72f7-77b2-42c8-ba0a-27ff83c0a780"
      },
      "source": [
        "!apt install libasound2-dev portaudio19-dev libportaudio2 libportaudiocpp0 ffmpeg "
      ],
      "execution_count": 22,
      "outputs": [
        {
          "output_type": "stream",
          "text": [
            "Reading package lists... Done\n",
            "Building dependency tree       \n",
            "Reading state information... Done\n",
            "libportaudio2 is already the newest version (19.6.0-1).\n",
            "libportaudiocpp0 is already the newest version (19.6.0-1).\n",
            "portaudio19-dev is already the newest version (19.6.0-1).\n",
            "libasound2-dev is already the newest version (1.1.3-5ubuntu0.5).\n",
            "ffmpeg is already the newest version (7:3.4.8-0ubuntu0.2).\n",
            "0 upgraded, 0 newly installed, 0 to remove and 14 not upgraded.\n"
          ],
          "name": "stdout"
        }
      ]
    },
    {
      "cell_type": "code",
      "metadata": {
        "colab": {
          "base_uri": "https://localhost:8080/"
        },
        "id": "evjUbCI6i43e",
        "outputId": "6953f126-334a-4ffb-a3a4-d828a75df5d9"
      },
      "source": [
        "!pip install PyAudio"
      ],
      "execution_count": 23,
      "outputs": [
        {
          "output_type": "stream",
          "text": [
            "Requirement already satisfied: PyAudio in /usr/local/lib/python3.6/dist-packages (0.2.11)\n"
          ],
          "name": "stdout"
        }
      ]
    },
    {
      "cell_type": "code",
      "metadata": {
        "id": "IsEKDZ7ki_fy"
      },
      "source": [
        "import speech_recognition as sr"
      ],
      "execution_count": 24,
      "outputs": []
    },
    {
      "cell_type": "code",
      "metadata": {
        "id": "HpRTtd9tjDjH"
      },
      "source": [
        "r = sr.Recognizer()\n"
      ],
      "execution_count": 25,
      "outputs": []
    },
    {
      "cell_type": "code",
      "metadata": {
        "colab": {
          "base_uri": "https://localhost:8080/"
        },
        "id": "1kK_7sldjQU3",
        "outputId": "c27641d9-3148-423b-c500-6e12539168cf"
      },
      "source": [
        "#filename = sr.AudioFile('D:\\Personal\\Co-Lab Practice Python\\Telugucomedy_ds.wav')\n",
        "from google.colab import drive\n",
        "drive.mount('/content/gdrive')\n",
        "root_path = 'gdrive/My Drive/chaganti.wav/'\n",
        "print(root_path)\n",
        "\n",
        "#filename = sr.AudioFile(root_path)\n",
        "\n",
        "#with filename as source:\n",
        "   # print(\"Processing...\");\n",
        "    #audio = r.record(source)\n",
        "        \n",
        "#try:\n",
        "   # print(\"TEXT: \"+ r.recognize_google(audio));\n",
        "    # For English\n",
        "    #print(\"TEXT: \"+ r.recognize_google(audio));\n",
        "   # For Hindi\n",
        "    # print(\"TEXT: \"+ r.recognize_google(audio, language = 'hi-IN'));\n",
        "    #Telugu\n",
        "  #  print(\"TEXT: \"+ r.recognize_google(audio, language = 'te-IN'));\n",
        "    \n",
        "#except:\n",
        "   #pass;\n"
      ],
      "execution_count": 29,
      "outputs": [
        {
          "output_type": "stream",
          "text": [
            "Drive already mounted at /content/gdrive; to attempt to forcibly remount, call drive.mount(\"/content/gdrive\", force_remount=True).\n",
            "gdrive/My Drive/chaganti.wav/\n"
          ],
          "name": "stdout"
        }
      ]
    }
  ]
}