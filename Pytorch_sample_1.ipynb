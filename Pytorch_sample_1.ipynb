{
  "nbformat": 4,
  "nbformat_minor": 0,
  "metadata": {
    "colab": {
      "name": "Pytorch sample-1.ipynb",
      "provenance": [],
      "authorship_tag": "ABX9TyMdHDDsUXlwSTfhvA4gGzGp",
      "include_colab_link": true
    },
    "kernelspec": {
      "name": "python3",
      "display_name": "Python 3"
    }
  },
  "cells": [
    {
      "cell_type": "markdown",
      "metadata": {
        "id": "view-in-github",
        "colab_type": "text"
      },
      "source": [
        "<a href=\"https://colab.research.google.com/github/Venkatpolavarapu/Data-Science/blob/master/Pytorch_sample_1.ipynb\" target=\"_parent\"><img src=\"https://colab.research.google.com/assets/colab-badge.svg\" alt=\"Open In Colab\"/></a>"
      ]
    },
    {
      "cell_type": "code",
      "metadata": {
        "id": "Nd7ac8Nw3CND"
      },
      "source": [
        "# This recipe provides options to save and reload an entire model\n",
        "import torch\n",
        "from torch.autograd import Variable\n",
        "import matplotlib.pyplot as plt\n",
        "%matplotlib inline\n",
        "\n",
        "torch.manual_seed(1)    # reproducible"
      ],
      "execution_count": null,
      "outputs": []
    },
    {
      "cell_type": "code",
      "metadata": {
        "id": "VnGED-sr3mB2"
      },
      "source": [
        "#sample data\n",
        "x = torch.unsqueeze(torch.linspace(-1, 1, 100), dim=1)  # x data (tensor), shape=(100, 1)\n",
        "y = x.pow(2) + 0.2*torch.rand(x.size())  # noisy y data (tensor), shape=(100, 1)\n",
        "x, y = Variable(x, requires_grad=False), Variable(y, requires_grad=False)"
      ],
      "execution_count": 2,
      "outputs": []
    },
    {
      "cell_type": "code",
      "metadata": {
        "id": "iuiHAxUP3wVR"
      },
      "source": [
        "def save():\n",
        "    # save net1\n",
        "    net1 = torch.nn.Sequential(\n",
        "        torch.nn.Linear(1, 10),\n",
        "        torch.nn.ReLU(),\n",
        "        torch.nn.Linear(10, 1)\n",
        "    )\n",
        "    optimizer = torch.optim.SGD(net1.parameters(), lr=0.5)\n",
        "    loss_func = torch.nn.MSELoss()\n",
        "\n",
        "    for t in range(100):\n",
        "        prediction = net1(x)\n",
        "        loss = loss_func(prediction, y)\n",
        "        optimizer.zero_grad()\n",
        "        loss.backward()\n",
        "        optimizer.step()\n",
        "\n",
        "    # plot result\n",
        "    plt.figure(1, figsize=(10, 3))\n",
        "    plt.subplot(131)\n",
        "    plt.title('Net1')\n",
        "    plt.scatter(x.data.numpy(), y.data.numpy())\n",
        "    plt.plot(x.data.numpy(), prediction.data.numpy(), 'r-', lw=5)\n",
        "\n",
        "    # 2 ways to save the net\n",
        "    torch.save(net1, 'net.pkl')  # save entire net\n",
        "    torch.save(net1.state_dict(), 'net_params.pkl')   # save only the parameters"
      ],
      "execution_count": 3,
      "outputs": []
    },
    {
      "cell_type": "code",
      "metadata": {
        "id": "KeUFATpG33QR"
      },
      "source": [
        "def restore_net():\n",
        "    # restore entire net1 to net2\n",
        "    net2 = torch.load('net.pkl')\n",
        "    prediction = net2(x)\n",
        "\n",
        "    # plot result\n",
        "    plt.subplot(132)\n",
        "    plt.title('Net2')\n",
        "    plt.scatter(x.data.numpy(), y.data.numpy())\n",
        "    plt.plot(x.data.numpy(), prediction.data.numpy(), 'r-', lw=5)"
      ],
      "execution_count": 4,
      "outputs": []
    },
    {
      "cell_type": "code",
      "metadata": {
        "id": "IyzJI2pl39vp"
      },
      "source": [
        "\n",
        "def restore_params():\n",
        "    # restore only the parameters in net1 to net3\n",
        "    net3 = torch.nn.Sequential(\n",
        "        torch.nn.Linear(1, 10),\n",
        "        torch.nn.ReLU(),\n",
        "        torch.nn.Linear(10, 1)\n",
        "    )\n",
        "\n",
        "    # copy net1's parameters into net3\n",
        "    net3.load_state_dict(torch.load('net_params.pkl'))\n",
        "    prediction = net3(x)\n",
        "\n",
        "    # plot result\n",
        "    plt.subplot(133)\n",
        "    plt.title('Net3')\n",
        "    plt.scatter(x.data.numpy(), y.data.numpy())\n",
        "    plt.plot(x.data.numpy(), prediction.data.numpy(), 'r-', lw=5)\n",
        "    plt.show()"
      ],
      "execution_count": 5,
      "outputs": []
    },
    {
      "cell_type": "code",
      "metadata": {
        "id": "y7RAp7nw4E9k",
        "outputId": "863927b4-96db-4026-c778-c163ec641b47",
        "colab": {
          "base_uri": "https://localhost:8080/",
          "height": 227
        }
      },
      "source": [
        "# save net1\n",
        "save()\n",
        "# restore entire net (may slow)\n",
        "restore_net()\n",
        "# restore only the net parameters\n",
        "restore_params()"
      ],
      "execution_count": 6,
      "outputs": [
        {
          "output_type": "display_data",
          "data": {
            "image/png": "[encoded data removed]",
            "text/plain": [
              "<Figure size 720x216 with 3 Axes>"
            ]
          },
          "metadata": {
            "tags": [],
            "needs_background": "light"
          }
        }
      ]
    }
  ]
}