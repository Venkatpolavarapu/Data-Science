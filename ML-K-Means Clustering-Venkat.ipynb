{
 "cells": [
  {
   "cell_type": "code",
   "execution_count": 1,
   "metadata": {},
   "outputs": [],
   "source": [
    "import numpy as np"
   ]
  },
  {
   "cell_type": "code",
   "execution_count": 2,
   "metadata": {},
   "outputs": [],
   "source": [
    "#Import KMeans class from sklearn.cluster\n",
    "from sklearn.cluster import KMeans"
   ]
  },
  {
   "cell_type": "code",
   "execution_count": 3,
   "metadata": {},
   "outputs": [],
   "source": [
    "#import make_blobs sample  generator for this demonstration\n",
    "from sklearn.datasets import make_blobs"
   ]
  },
  {
   "cell_type": "code",
   "execution_count": 4,
   "metadata": {},
   "outputs": [],
   "source": [
    "#define number of samples\n",
    "n_samples=300\n"
   ]
  },
  {
   "cell_type": "code",
   "execution_count": 5,
   "metadata": {},
   "outputs": [],
   "source": [
    "random_state=20"
   ]
  },
  {
   "cell_type": "code",
   "execution_count": 6,
   "metadata": {},
   "outputs": [],
   "source": [
    "X,y=make_blobs(n_samples=n_samples,n_features=5,random_state=None)"
   ]
  },
  {
   "cell_type": "code",
   "execution_count": 7,
   "metadata": {},
   "outputs": [],
   "source": [
    "#I am defining no.of clusters to be formed as 3 \n",
    "#Fit features into the model\n",
    "predict_y= KMeans(n_clusters=3,random_state=random_state).fit_predict(X)"
   ]
  },
  {
   "cell_type": "code",
   "execution_count": 8,
   "metadata": {},
   "outputs": [
    {
     "data": {
      "text/plain": [
       "array([1, 0, 1, 0, 2, 2, 2, 0, 0, 0, 1, 1, 0, 0, 1, 1, 1, 1, 2, 0, 0, 1,\n",
       "       1, 2, 0, 2, 2, 2, 2, 0, 1, 0, 0, 1, 1, 2, 0, 0, 2, 2, 2, 2, 2, 0,\n",
       "       2, 0, 2, 1, 0, 0, 1, 0, 2, 0, 2, 0, 1, 1, 2, 0, 2, 0, 1, 1, 0, 0,\n",
       "       2, 2, 2, 1, 1, 1, 0, 2, 1, 0, 1, 2, 0, 2, 0, 0, 1, 2, 1, 0, 2, 0,\n",
       "       2, 0, 1, 2, 2, 1, 0, 1, 0, 0, 2, 2, 0, 0, 1, 2, 0, 0, 0, 2, 1, 1,\n",
       "       0, 2, 0, 0, 2, 2, 1, 2, 2, 1, 0, 0, 2, 0, 1, 2, 0, 1, 1, 1, 1, 1,\n",
       "       2, 0, 2, 1, 1, 0, 2, 1, 1, 2, 0, 2, 0, 2, 0, 2, 2, 2, 2, 2, 2, 2,\n",
       "       0, 1, 1, 0, 1, 0, 1, 0, 2, 1, 2, 2, 1, 2, 1, 1, 0, 2, 0, 1, 2, 1,\n",
       "       1, 1, 1, 2, 2, 2, 1, 1, 1, 0, 0, 2, 2, 2, 2, 0, 1, 1, 0, 1, 1, 1,\n",
       "       0, 0, 0, 0, 1, 2, 2, 2, 2, 2, 1, 0, 2, 0, 0, 2, 2, 1, 1, 1, 0, 0,\n",
       "       2, 0, 1, 0, 1, 2, 1, 2, 0, 0, 0, 1, 1, 0, 2, 0, 1, 2, 0, 1, 0, 2,\n",
       "       2, 2, 1, 1, 2, 0, 0, 2, 1, 2, 0, 1, 1, 2, 1, 0, 1, 1, 2, 1, 0, 0,\n",
       "       1, 1, 0, 2, 0, 2, 0, 0, 1, 2, 2, 2, 1, 0, 2, 0, 0, 1, 1, 2, 0, 1,\n",
       "       2, 2, 0, 1, 1, 1, 1, 1, 1, 0, 2, 0, 1, 0])"
      ]
     },
     "execution_count": 8,
     "metadata": {},
     "output_type": "execute_result"
    }
   ],
   "source": [
    "predict_y"
   ]
  },
  {
   "cell_type": "code",
   "execution_count": null,
   "metadata": {},
   "outputs": [],
   "source": []
  }
 ],
 "metadata": {
  "kernelspec": {
   "display_name": "Python 3",
   "language": "python",
   "name": "python3"
  },
  "language_info": {
   "codemirror_mode": {
    "name": "ipython",
    "version": 3
   },
   "file_extension": ".py",
   "mimetype": "text/x-python",
   "name": "python",
   "nbconvert_exporter": "python",
   "pygments_lexer": "ipython3",
   "version": "3.6.4"
  }
 },
 "nbformat": 4,
 "nbformat_minor": 2
}
