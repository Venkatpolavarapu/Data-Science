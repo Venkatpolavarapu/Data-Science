{
  "nbformat": 4,
  "nbformat_minor": 0,
  "metadata": {
    "colab": {
      "name": "Reshapenumpyarray.ipynb",
      "provenance": [],
      "authorship_tag": "ABX9TyO8z+gXt1lLk0TWYBuxWLYI",
      "include_colab_link": true
    },
    "kernelspec": {
      "name": "python3",
      "display_name": "Python 3"
    }
  },
  "cells": [
    {
      "cell_type": "markdown",
      "metadata": {
        "id": "view-in-github",
        "colab_type": "text"
      },
      "source": [
        "<a href=\"https://colab.research.google.com/github/Venkatpolavarapu/Data-Science/blob/master/Reshapenumpyarray.ipynb\" target=\"_parent\"><img src=\"https://colab.research.google.com/assets/colab-badge.svg\" alt=\"Open In Colab\"/></a>"
      ]
    },
    {
      "cell_type": "code",
      "metadata": {
        "id": "NBrZzAEETPBo",
        "outputId": "b58dab21-1455-47e9-f622-08d7544faa90",
        "colab": {
          "base_uri": "https://localhost:8080/",
          "height": 295
        }
      },
      "source": [
        "# How to Reshape a Numpy Array or Matrix\n",
        "def Kickstarter_Example_4():\n",
        "    print()\n",
        "    print(format('How to Reshape a Numpy Array', '*^52'))\n",
        "\n",
        "    # Load library\n",
        "    import numpy as np\n",
        "\n",
        "    # Create a 4x3 matrix\n",
        "    matrix = np.array([[1, 2, 3],\n",
        "                       [4, 5, 6],\n",
        "                       [7, 8, 9],\n",
        "                       [10, 11, 12]])\n",
        "\n",
        "    # Reshape matrix into 2x6 matrix\n",
        "    print()\n",
        "    print(matrix.reshape(2, 6))\n",
        "\n",
        "    print()\n",
        "    print(matrix.reshape(3, 4))\n",
        "\n",
        "    print()\n",
        "    print(matrix.reshape(6, 2))\n",
        "\n",
        "Kickstarter_Example_4()"
      ],
      "execution_count": 1,
      "outputs": [
        {
          "output_type": "stream",
          "text": [
            "\n",
            "************How to Reshape a Numpy Array************\n",
            "\n",
            "[[ 1  2  3  4  5  6]\n",
            " [ 7  8  9 10 11 12]]\n",
            "\n",
            "[[ 1  2  3  4]\n",
            " [ 5  6  7  8]\n",
            " [ 9 10 11 12]]\n",
            "\n",
            "[[ 1  2]\n",
            " [ 3  4]\n",
            " [ 5  6]\n",
            " [ 7  8]\n",
            " [ 9 10]\n",
            " [11 12]]\n"
          ],
          "name": "stdout"
        }
      ]
    }
  ]
}